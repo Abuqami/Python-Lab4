{
 "cells": [
  {
   "cell_type": "code",
   "execution_count": null,
   "id": "43f80143",
   "metadata": {},
   "outputs": [],
   "source": [
    "'''\n",
    "Create a function that takes one parameter of type int, then it prints out the result \n",
    "formatted like the following pattern (if we give it 5 for example):\n",
    "\n",
    "5 4 3 2 1\n",
    "\n",
    "4 3 2 1\n",
    "\n",
    "3 2 1\n",
    "\n",
    "2 1\n",
    "\n",
    "1\n",
    "\n",
    "'''"
   ]
  },
  {
   "cell_type": "code",
   "execution_count": null,
   "id": "360b3d5b",
   "metadata": {},
   "outputs": [],
   "source": [
    "def pattern(x):\n",
    "    try:\n",
    "        x=int(input('please enter an integer number'))\n",
    "        for i in range(x):\n",
    "            j = x\n",
    "            for i in range(j):\n",
    "                print(j, end=\" \")\n",
    "                j = j - 1\n",
    "            print()\n",
    "            x = x - 1\n",
    "    except ValueError:\n",
    "        print('Please enter an integer number')\n",
    "        pattern(0)\n",
    "\n",
    "pattern(0)\n",
    "    \n",
    "    "
   ]
  }
 ],
 "metadata": {
  "kernelspec": {
   "display_name": "Python 3 (ipykernel)",
   "language": "python",
   "name": "python3"
  },
  "language_info": {
   "codemirror_mode": {
    "name": "ipython",
    "version": 3
   },
   "file_extension": ".py",
   "mimetype": "text/x-python",
   "name": "python",
   "nbconvert_exporter": "python",
   "pygments_lexer": "ipython3",
   "version": "3.11.3"
  }
 },
 "nbformat": 4,
 "nbformat_minor": 5
}
